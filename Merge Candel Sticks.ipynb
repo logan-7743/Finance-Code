{
  "nbformat": 4,
  "nbformat_minor": 0,
  "metadata": {
    "colab": {
      "provenance": []
    },
    "kernelspec": {
      "name": "python3",
      "display_name": "Python 3"
    },
    "language_info": {
      "name": "python"
    }
  },
  "cells": [
    {
      "cell_type": "code",
      "execution_count": null,
      "metadata": {
        "id": "QMaMxcveTXua"
      },
      "outputs": [],
      "source": [
        "import numpy as np\n",
        "import pandas as pd\n",
        "!pip install yfinance\n",
        "import yfinance as yf\n",
        "!pip install pandas_ta\n",
        "import pandas_ta as ta\n"
      ]
    },
    {
      "cell_type": "code",
      "source": [
        "from datetime import date, timedelta\n",
        "aapl_1m = yf.download(\"AAPL\", start = date.today()- timedelta(7), end = date.today(), interval = \"1m\")\n",
        "aapl_5m = yf.download(\"AAPL\", start = date.today()- timedelta(7), end = date.today(), interval = \"5m\")"
      ],
      "metadata": {
        "id": "R8eJkNRqTlTu"
      },
      "execution_count": null,
      "outputs": []
    },
    {
      "cell_type": "code",
      "source": [
        "columns = aapl_1m.columns\n",
        "aapl_5m = aapl_5m.reset_index()\n",
        "aapl_1m = aapl_1m.reset_index()\n",
        "aapl_merge = pd.DataFrame(columns = columns)\n",
        "print(aapl_merge)"
      ],
      "metadata": {
        "id": "3DPek82pUvH_"
      },
      "execution_count": null,
      "outputs": []
    },
    {
      "cell_type": "code",
      "source": [
        "import warnings\n",
        "warnings.filterwarnings('ignore')\n",
        "index_1m = 0\n",
        "\n",
        "for index_5m, row_5m in aapl_5m.iterrows():\n",
        "  row_1m = aapl_1m.iloc[index_1m]\n",
        "\n",
        "  if row_1m.Datetime == row_5m.Datetime:\n",
        "    aapl_merge = aapl_merge.append(row_5m)\n",
        "    index_1m += 1\n",
        "\n",
        "  else:\n",
        "    while row_1m.Datetime != row_5m.Datetime:\n",
        "      aapl_merge = aapl_merge.append(row_5m)\n",
        "      index_1m += 1\n",
        "      row_1m = aapl_1m.iloc[index_1m]\n",
        "\n",
        "while index_1m < len(aapl_1m):\n",
        "    aapl_merge = aapl_merge.append(aapl_1m.iloc[index_1m])\n",
        "    index_1m += 1\n",
        "\n",
        "print(aapl_merge)"
      ],
      "metadata": {
        "id": "fYK4qt7MU2xW"
      },
      "execution_count": null,
      "outputs": []
    }
  ]
}
